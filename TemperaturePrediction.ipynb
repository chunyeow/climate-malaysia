{
  "nbformat": 4,
  "nbformat_minor": 0,
  "metadata": {
    "colab": {
      "name": "Copy of S+P Week 4 Exercise Question.ipynb",
      "provenance": [],
      "collapsed_sections": []
    },
    "kernelspec": {
      "name": "python3",
      "display_name": "Python 3"
    },
    "accelerator": "GPU"
  },
  "cells": [
    {
      "cell_type": "code",
      "metadata": {
        "id": "GNkzTFfynsmV",
        "colab_type": "code",
        "outputId": "56c16a52-6a60-4f1d-832b-a5124e58732c",
        "colab": {
          "base_uri": "https://localhost:8080/",
          "height": 1000
        }
      },
      "source": [
        "!pip install tensorflow==2.1.0"
      ],
      "execution_count": 0,
      "outputs": [
        {
          "output_type": "stream",
          "text": [
            "Collecting tensorflow==2.1.0\n",
            "\u001b[?25l  Downloading https://files.pythonhosted.org/packages/85/d4/c0cd1057b331bc38b65478302114194bd8e1b9c2bbc06e300935c0e93d90/tensorflow-2.1.0-cp36-cp36m-manylinux2010_x86_64.whl (421.8MB)\n",
            "\u001b[K     |████████████████████████████████| 421.8MB 39kB/s \n",
            "\u001b[?25hRequirement already satisfied: opt-einsum>=2.3.2 in /usr/local/lib/python3.6/dist-packages (from tensorflow==2.1.0) (3.1.0)\n",
            "Requirement already satisfied: astor>=0.6.0 in /usr/local/lib/python3.6/dist-packages (from tensorflow==2.1.0) (0.8.1)\n",
            "Requirement already satisfied: google-pasta>=0.1.6 in /usr/local/lib/python3.6/dist-packages (from tensorflow==2.1.0) (0.1.8)\n",
            "Requirement already satisfied: termcolor>=1.1.0 in /usr/local/lib/python3.6/dist-packages (from tensorflow==2.1.0) (1.1.0)\n",
            "Requirement already satisfied: wheel>=0.26; python_version >= \"3\" in /usr/local/lib/python3.6/dist-packages (from tensorflow==2.1.0) (0.34.2)\n",
            "Requirement already satisfied: gast==0.2.2 in /usr/local/lib/python3.6/dist-packages (from tensorflow==2.1.0) (0.2.2)\n",
            "Requirement already satisfied: keras-applications>=1.0.8 in /usr/local/lib/python3.6/dist-packages (from tensorflow==2.1.0) (1.0.8)\n",
            "Requirement already satisfied: scipy==1.4.1; python_version >= \"3\" in /usr/local/lib/python3.6/dist-packages (from tensorflow==2.1.0) (1.4.1)\n",
            "Requirement already satisfied: absl-py>=0.7.0 in /usr/local/lib/python3.6/dist-packages (from tensorflow==2.1.0) (0.9.0)\n",
            "Requirement already satisfied: keras-preprocessing>=1.1.0 in /usr/local/lib/python3.6/dist-packages (from tensorflow==2.1.0) (1.1.0)\n",
            "Requirement already satisfied: wrapt>=1.11.1 in /usr/local/lib/python3.6/dist-packages (from tensorflow==2.1.0) (1.11.2)\n",
            "Requirement already satisfied: six>=1.12.0 in /usr/local/lib/python3.6/dist-packages (from tensorflow==2.1.0) (1.12.0)\n",
            "Requirement already satisfied: numpy<2.0,>=1.16.0 in /usr/local/lib/python3.6/dist-packages (from tensorflow==2.1.0) (1.17.5)\n",
            "Requirement already satisfied: grpcio>=1.8.6 in /usr/local/lib/python3.6/dist-packages (from tensorflow==2.1.0) (1.27.1)\n",
            "Collecting tensorflow-estimator<2.2.0,>=2.1.0rc0\n",
            "\u001b[?25l  Downloading https://files.pythonhosted.org/packages/18/90/b77c328a1304437ab1310b463e533fa7689f4bfc41549593056d812fab8e/tensorflow_estimator-2.1.0-py2.py3-none-any.whl (448kB)\n",
            "\u001b[K     |████████████████████████████████| 450kB 41.7MB/s \n",
            "\u001b[?25hCollecting tensorboard<2.2.0,>=2.1.0\n",
            "\u001b[?25l  Downloading https://files.pythonhosted.org/packages/40/23/53ffe290341cd0855d595b0a2e7485932f473798af173bbe3a584b99bb06/tensorboard-2.1.0-py3-none-any.whl (3.8MB)\n",
            "\u001b[K     |████████████████████████████████| 3.8MB 37.1MB/s \n",
            "\u001b[?25hRequirement already satisfied: protobuf>=3.8.0 in /usr/local/lib/python3.6/dist-packages (from tensorflow==2.1.0) (3.10.0)\n",
            "Requirement already satisfied: h5py in /usr/local/lib/python3.6/dist-packages (from keras-applications>=1.0.8->tensorflow==2.1.0) (2.8.0)\n",
            "Requirement already satisfied: markdown>=2.6.8 in /usr/local/lib/python3.6/dist-packages (from tensorboard<2.2.0,>=2.1.0->tensorflow==2.1.0) (3.2.1)\n",
            "Requirement already satisfied: google-auth-oauthlib<0.5,>=0.4.1 in /usr/local/lib/python3.6/dist-packages (from tensorboard<2.2.0,>=2.1.0->tensorflow==2.1.0) (0.4.1)\n",
            "Requirement already satisfied: setuptools>=41.0.0 in /usr/local/lib/python3.6/dist-packages (from tensorboard<2.2.0,>=2.1.0->tensorflow==2.1.0) (45.1.0)\n",
            "Requirement already satisfied: requests<3,>=2.21.0 in /usr/local/lib/python3.6/dist-packages (from tensorboard<2.2.0,>=2.1.0->tensorflow==2.1.0) (2.21.0)\n",
            "Requirement already satisfied: werkzeug>=0.11.15 in /usr/local/lib/python3.6/dist-packages (from tensorboard<2.2.0,>=2.1.0->tensorflow==2.1.0) (1.0.0)\n",
            "Requirement already satisfied: google-auth<2,>=1.6.3 in /usr/local/lib/python3.6/dist-packages (from tensorboard<2.2.0,>=2.1.0->tensorflow==2.1.0) (1.7.2)\n",
            "Requirement already satisfied: requests-oauthlib>=0.7.0 in /usr/local/lib/python3.6/dist-packages (from google-auth-oauthlib<0.5,>=0.4.1->tensorboard<2.2.0,>=2.1.0->tensorflow==2.1.0) (1.3.0)\n",
            "Requirement already satisfied: idna<2.9,>=2.5 in /usr/local/lib/python3.6/dist-packages (from requests<3,>=2.21.0->tensorboard<2.2.0,>=2.1.0->tensorflow==2.1.0) (2.8)\n",
            "Requirement already satisfied: chardet<3.1.0,>=3.0.2 in /usr/local/lib/python3.6/dist-packages (from requests<3,>=2.21.0->tensorboard<2.2.0,>=2.1.0->tensorflow==2.1.0) (3.0.4)\n",
            "Requirement already satisfied: urllib3<1.25,>=1.21.1 in /usr/local/lib/python3.6/dist-packages (from requests<3,>=2.21.0->tensorboard<2.2.0,>=2.1.0->tensorflow==2.1.0) (1.24.3)\n",
            "Requirement already satisfied: certifi>=2017.4.17 in /usr/local/lib/python3.6/dist-packages (from requests<3,>=2.21.0->tensorboard<2.2.0,>=2.1.0->tensorflow==2.1.0) (2019.11.28)\n",
            "Requirement already satisfied: cachetools<3.2,>=2.0.0 in /usr/local/lib/python3.6/dist-packages (from google-auth<2,>=1.6.3->tensorboard<2.2.0,>=2.1.0->tensorflow==2.1.0) (3.1.1)\n",
            "Requirement already satisfied: pyasn1-modules>=0.2.1 in /usr/local/lib/python3.6/dist-packages (from google-auth<2,>=1.6.3->tensorboard<2.2.0,>=2.1.0->tensorflow==2.1.0) (0.2.8)\n",
            "Requirement already satisfied: rsa<4.1,>=3.1.4 in /usr/local/lib/python3.6/dist-packages (from google-auth<2,>=1.6.3->tensorboard<2.2.0,>=2.1.0->tensorflow==2.1.0) (4.0)\n",
            "Requirement already satisfied: oauthlib>=3.0.0 in /usr/local/lib/python3.6/dist-packages (from requests-oauthlib>=0.7.0->google-auth-oauthlib<0.5,>=0.4.1->tensorboard<2.2.0,>=2.1.0->tensorflow==2.1.0) (3.1.0)\n",
            "Requirement already satisfied: pyasn1<0.5.0,>=0.4.6 in /usr/local/lib/python3.6/dist-packages (from pyasn1-modules>=0.2.1->google-auth<2,>=1.6.3->tensorboard<2.2.0,>=2.1.0->tensorflow==2.1.0) (0.4.8)\n",
            "Installing collected packages: tensorflow-estimator, tensorboard, tensorflow\n",
            "  Found existing installation: tensorflow-estimator 1.15.1\n",
            "    Uninstalling tensorflow-estimator-1.15.1:\n",
            "      Successfully uninstalled tensorflow-estimator-1.15.1\n",
            "  Found existing installation: tensorboard 1.15.0\n",
            "    Uninstalling tensorboard-1.15.0:\n",
            "      Successfully uninstalled tensorboard-1.15.0\n",
            "  Found existing installation: tensorflow 1.15.0\n",
            "    Uninstalling tensorflow-1.15.0:\n",
            "      Successfully uninstalled tensorflow-1.15.0\n",
            "Successfully installed tensorboard-2.1.0 tensorflow-2.1.0 tensorflow-estimator-2.1.0\n"
          ],
          "name": "stdout"
        },
        {
          "output_type": "display_data",
          "data": {
            "application/vnd.colab-display-data+json": {
              "pip_warning": {
                "packages": [
                  "tensorboard",
                  "tensorflow",
                  "tensorflow_core",
                  "tensorflow_estimator"
                ]
              }
            }
          },
          "metadata": {
            "tags": []
          }
        }
      ]
    },
    {
      "cell_type": "code",
      "metadata": {
        "id": "56XEQOGknrAk",
        "colab_type": "code",
        "outputId": "c981cb66-03de-48cd-fd79-ed9210ee7475",
        "colab": {
          "base_uri": "https://localhost:8080/",
          "height": 34
        }
      },
      "source": [
        "import tensorflow as tf\n",
        "print(tf.__version__)"
      ],
      "execution_count": 0,
      "outputs": [
        {
          "output_type": "stream",
          "text": [
            "2.1.0\n"
          ],
          "name": "stdout"
        }
      ]
    },
    {
      "cell_type": "code",
      "metadata": {
        "id": "sLl52leVp5wU",
        "colab_type": "code",
        "colab": {}
      },
      "source": [
        "import numpy as np\n",
        "import matplotlib.pyplot as plt\n",
        "def plot_series(time, series, format=\"-\", start=0, end=None):\n",
        "    plt.plot(time[start:end], series[start:end], format)\n",
        "    plt.xlabel(\"Time\")\n",
        "    plt.ylabel(\"Value\")\n",
        "    plt.grid(True)"
      ],
      "execution_count": 0,
      "outputs": []
    },
    {
      "cell_type": "code",
      "metadata": {
        "id": "tP7oqUdkk0gY",
        "colab_type": "code",
        "outputId": "fe8b1e67-179b-4f13-f4af-045ab813a5fb",
        "colab": {
          "base_uri": "https://localhost:8080/",
          "height": 206
        }
      },
      "source": [
        "!wget --no-check-certificate \\\n",
        "    https://raw.githubusercontent.com/chunyeow/climate-malaysia/master/tas_1901_2016_MYS.csv \\\n",
        "    -O /tmp/daily-min-temperatures.csv"
      ],
      "execution_count": 0,
      "outputs": [
        {
          "output_type": "stream",
          "text": [
            "--2020-03-01 10:15:10--  https://raw.githubusercontent.com/chunyeow/climate-malaysia/master/tas_1901_2016_MYS.csv\n",
            "Resolving raw.githubusercontent.com (raw.githubusercontent.com)... 151.101.0.133, 151.101.64.133, 151.101.128.133, ...\n",
            "Connecting to raw.githubusercontent.com (raw.githubusercontent.com)|151.101.0.133|:443... connected.\n",
            "HTTP request sent, awaiting response... 200 OK\n",
            "Length: 58367 (57K) [text/plain]\n",
            "Saving to: ‘/tmp/daily-min-temperatures.csv’\n",
            "\n",
            "\r          /tmp/dail   0%[                    ]       0  --.-KB/s               \r/tmp/daily-min-temp 100%[===================>]  57.00K  --.-KB/s    in 0.01s   \n",
            "\n",
            "2020-03-01 10:15:10 (5.79 MB/s) - ‘/tmp/daily-min-temperatures.csv’ saved [58367/58367]\n",
            "\n"
          ],
          "name": "stdout"
        }
      ]
    },
    {
      "cell_type": "code",
      "metadata": {
        "id": "NcG9r1eClbTh",
        "colab_type": "code",
        "outputId": "f5176023-97ca-4ef7-f516-1d60f21de679",
        "colab": {
          "base_uri": "https://localhost:8080/",
          "height": 408
        }
      },
      "source": [
        "import csv\n",
        "time_step = []\n",
        "temps = []\n",
        "\n",
        "with open('/tmp/daily-min-temperatures.csv') as csvfile:\n",
        "  reader = csv.reader(csvfile, delimiter=',')\n",
        "  next(reader)\n",
        "  step = 0\n",
        "  for row in reader:\n",
        "    temps.append(float(row[0]))\n",
        "    time_step.append(step)\n",
        "    step = step + 1\n",
        "\n",
        "print(step)\n",
        "\n",
        "series = np.array(temps)\n",
        "time = np.array(time_step)\n",
        "plt.figure(figsize=(10, 6))\n",
        "plot_series(time, series)"
      ],
      "execution_count": 0,
      "outputs": [
        {
          "output_type": "stream",
          "text": [
            "1392\n"
          ],
          "name": "stdout"
        },
        {
          "output_type": "display_data",
          "data": {
            "image/png": "[encoded data removed]",
            "text/plain": [
              "<Figure size 720x432 with 1 Axes>"
            ]
          },
          "metadata": {
            "tags": []
          }
        }
      ]
    },
    {
      "cell_type": "code",
      "metadata": {
        "id": "L92YRw_IpCFG",
        "colab_type": "code",
        "colab": {}
      },
      "source": [
        "split_time = 1344\n",
        "time_train = time[:split_time]\n",
        "x_train = series[:split_time]\n",
        "time_valid = time[split_time:]\n",
        "x_valid = series[split_time:]\n",
        "\n",
        "window_size = 48\n",
        "batch_size = 28\n",
        "shuffle_buffer_size = 1000\n",
        "\n"
      ],
      "execution_count": 0,
      "outputs": []
    },
    {
      "cell_type": "code",
      "metadata": {
        "id": "lJwUUZscnG38",
        "colab_type": "code",
        "colab": {}
      },
      "source": [
        "def windowed_dataset(series, window_size, batch_size, shuffle_buffer):\n",
        "    series = tf.expand_dims(series, axis=-1)\n",
        "    ds = tf.data.Dataset.from_tensor_slices(series)\n",
        "    ds = ds.window(window_size + 1, shift=1, drop_remainder=True)\n",
        "    ds = ds.flat_map(lambda w: w.batch(window_size+1))\n",
        "    ds = ds.shuffle(shuffle_buffer)\n",
        "    ds = ds.map(lambda w: (w[:-1], w[1:]))\n",
        "    return ds.batch(batch_size).prefetch(1)"
      ],
      "execution_count": 0,
      "outputs": []
    },
    {
      "cell_type": "code",
      "metadata": {
        "id": "4XwGrf-A_wF0",
        "colab_type": "code",
        "colab": {}
      },
      "source": [
        "def model_forecast(model, series, window_size):\n",
        "    ds = tf.data.Dataset.from_tensor_slices(series)\n",
        "    ds = ds.window(window_size, shift=1, drop_remainder=True)\n",
        "    ds = ds.flat_map(lambda w: w.batch(window_size))\n",
        "    ds = ds.batch(32).prefetch(1)\n",
        "    forecast = model.predict(ds)\n",
        "    return forecast"
      ],
      "execution_count": 0,
      "outputs": []
    },
    {
      "cell_type": "code",
      "metadata": {
        "id": "AclfYY3Mn6Ph",
        "colab_type": "code",
        "outputId": "8551b9f3-47df-4b76-f6e4-c338ab42343d",
        "colab": {
          "base_uri": "https://localhost:8080/",
          "height": 1000
        }
      },
      "source": [
        "tf.keras.backend.clear_session()\n",
        "tf.random.set_seed(51)\n",
        "np.random.seed(51)\n",
        "window_size = 48\n",
        "batch_size = 28\n",
        "train_set = windowed_dataset(x_train, window_size, batch_size, shuffle_buffer_size)\n",
        "print(train_set)\n",
        "print(x_train.shape)\n",
        "\n",
        "model = tf.keras.models.Sequential([\n",
        "  tf.keras.layers.Conv1D(filters=24, kernel_size=5,\n",
        "                      strides=1, padding=\"causal\",\n",
        "                      activation=\"relu\",\n",
        "                      input_shape=[None, 1]),\n",
        "  tf.keras.layers.LSTM(64, return_sequences=True),\n",
        "  tf.keras.layers.LSTM(64, return_sequences=True),\n",
        "  tf.keras.layers.Dense(30, activation=\"relu\"),\n",
        "  tf.keras.layers.Dense(10, activation=\"relu\"),\n",
        "  tf.keras.layers.Dense(1),\n",
        "  tf.keras.layers.Lambda(lambda x: x * 400)\n",
        "])\n",
        "\n",
        "lr_schedule = tf.keras.callbacks.LearningRateScheduler(\n",
        "    lambda epoch: 1e-8 * 10**(epoch / 20))\n",
        "optimizer = tf.keras.optimizers.SGD(lr=1e-8, momentum=0.9)\n",
        "model.compile(loss=tf.keras.losses.Huber(),\n",
        "              optimizer=optimizer,\n",
        "              metrics=[\"mae\"])\n",
        "history = model.fit(train_set, epochs=100, callbacks=[lr_schedule])\n",
        "\n",
        "\n"
      ],
      "execution_count": 0,
      "outputs": [
        {
          "output_type": "stream",
          "text": [
            "<PrefetchDataset shapes: ((None, None, 1), (None, None, 1)), types: (tf.float64, tf.float64)>\n",
            "(1344,)\n",
            "Epoch 1/100\n",
            "47/47 [==============================] - 4s 81ms/step - loss: 43.1888 - mae: 43.7456\n",
            "Epoch 2/100\n",
            "47/47 [==============================] - 1s 16ms/step - loss: 34.2030 - mae: 34.7968\n",
            "Epoch 3/100\n",
            "47/47 [==============================] - 1s 17ms/step - loss: 15.2155 - mae: 15.9055\n",
            "Epoch 4/100\n",
            "47/47 [==============================] - 1s 17ms/step - loss: 2.5220 - mae: 2.9683\n",
            "Epoch 5/100\n",
            "47/47 [==============================] - 1s 16ms/step - loss: 2.1580 - mae: 2.5815\n",
            "Epoch 6/100\n",
            "47/47 [==============================] - 1s 17ms/step - loss: 1.9834 - mae: 2.4022\n",
            "Epoch 7/100\n",
            "47/47 [==============================] - 1s 16ms/step - loss: 1.8193 - mae: 2.2351\n",
            "Epoch 8/100\n",
            "47/47 [==============================] - 1s 16ms/step - loss: 1.6623 - mae: 2.0775\n",
            "Epoch 9/100\n",
            "47/47 [==============================] - 1s 16ms/step - loss: 1.5052 - mae: 1.9182\n",
            "Epoch 10/100\n",
            "47/47 [==============================] - 1s 16ms/step - loss: 1.3498 - mae: 1.7580\n",
            "Epoch 11/100\n",
            "47/47 [==============================] - 1s 17ms/step - loss: 1.1916 - mae: 1.5968\n",
            "Epoch 12/100\n",
            "47/47 [==============================] - 1s 17ms/step - loss: 1.0488 - mae: 1.4456\n",
            "Epoch 13/100\n",
            "47/47 [==============================] - 1s 16ms/step - loss: 0.9332 - mae: 1.3198\n",
            "Epoch 14/100\n",
            "47/47 [==============================] - 1s 16ms/step - loss: 0.8394 - mae: 1.2186\n",
            "Epoch 15/100\n",
            "47/47 [==============================] - 1s 16ms/step - loss: 0.7645 - mae: 1.1428\n",
            "Epoch 16/100\n",
            "47/47 [==============================] - 1s 15ms/step - loss: 0.7067 - mae: 1.0819\n",
            "Epoch 17/100\n",
            "47/47 [==============================] - 1s 16ms/step - loss: 0.6736 - mae: 1.0469\n",
            "Epoch 18/100\n",
            "47/47 [==============================] - 1s 16ms/step - loss: 0.6497 - mae: 1.0216\n",
            "Epoch 19/100\n",
            "47/47 [==============================] - 1s 16ms/step - loss: 0.6130 - mae: 0.9789\n",
            "Epoch 20/100\n",
            "47/47 [==============================] - 1s 17ms/step - loss: 0.6017 - mae: 0.9675\n",
            "Epoch 21/100\n",
            "47/47 [==============================] - 1s 15ms/step - loss: 0.5792 - mae: 0.9402\n",
            "Epoch 22/100\n",
            "47/47 [==============================] - 1s 16ms/step - loss: 0.5596 - mae: 0.9171\n",
            "Epoch 23/100\n",
            "47/47 [==============================] - 1s 16ms/step - loss: 0.5444 - mae: 0.8997\n",
            "Epoch 24/100\n",
            "47/47 [==============================] - 1s 16ms/step - loss: 0.5250 - mae: 0.8772\n",
            "Epoch 25/100\n",
            "47/47 [==============================] - 1s 16ms/step - loss: 0.5164 - mae: 0.8655\n",
            "Epoch 26/100\n",
            "47/47 [==============================] - 1s 17ms/step - loss: 0.5023 - mae: 0.8495\n",
            "Epoch 27/100\n",
            "47/47 [==============================] - 1s 16ms/step - loss: 0.4859 - mae: 0.8282\n",
            "Epoch 28/100\n",
            "47/47 [==============================] - 1s 16ms/step - loss: 0.4744 - mae: 0.8146\n",
            "Epoch 29/100\n",
            "47/47 [==============================] - 1s 16ms/step - loss: 0.4897 - mae: 0.8384\n",
            "Epoch 30/100\n",
            "47/47 [==============================] - 1s 16ms/step - loss: 0.4599 - mae: 0.8000\n",
            "Epoch 31/100\n",
            "47/47 [==============================] - 1s 17ms/step - loss: 0.4469 - mae: 0.7846\n",
            "Epoch 32/100\n",
            "47/47 [==============================] - 1s 15ms/step - loss: 0.4288 - mae: 0.7624\n",
            "Epoch 33/100\n",
            "47/47 [==============================] - 1s 16ms/step - loss: 0.4125 - mae: 0.7414\n",
            "Epoch 34/100\n",
            "47/47 [==============================] - 1s 16ms/step - loss: 0.4030 - mae: 0.7295\n",
            "Epoch 35/100\n",
            "47/47 [==============================] - 1s 16ms/step - loss: 0.3993 - mae: 0.7296\n",
            "Epoch 36/100\n",
            "47/47 [==============================] - 1s 16ms/step - loss: 0.4196 - mae: 0.7627\n",
            "Epoch 37/100\n",
            "47/47 [==============================] - 1s 16ms/step - loss: 0.4348 - mae: 0.7857\n",
            "Epoch 38/100\n",
            "47/47 [==============================] - 1s 16ms/step - loss: 0.3616 - mae: 0.6903\n",
            "Epoch 39/100\n",
            "47/47 [==============================] - 1s 16ms/step - loss: 0.3602 - mae: 0.6923\n",
            "Epoch 40/100\n",
            "47/47 [==============================] - 1s 16ms/step - loss: 0.3723 - mae: 0.7107\n",
            "Epoch 41/100\n",
            "47/47 [==============================] - 1s 16ms/step - loss: 0.3889 - mae: 0.7368\n",
            "Epoch 42/100\n",
            "47/47 [==============================] - 1s 16ms/step - loss: 0.4524 - mae: 0.8245\n",
            "Epoch 43/100\n",
            "47/47 [==============================] - 1s 16ms/step - loss: 0.5312 - mae: 0.9190\n",
            "Epoch 44/100\n",
            "47/47 [==============================] - 1s 16ms/step - loss: 2.7512 - mae: 3.2175\n",
            "Epoch 45/100\n",
            "47/47 [==============================] - 1s 16ms/step - loss: 3.2870 - mae: 3.7861\n",
            "Epoch 46/100\n",
            "47/47 [==============================] - 1s 16ms/step - loss: 1.4702 - mae: 1.9426\n",
            "Epoch 47/100\n",
            "47/47 [==============================] - 1s 17ms/step - loss: 1.6319 - mae: 2.1169\n",
            "Epoch 48/100\n",
            "47/47 [==============================] - 1s 16ms/step - loss: 1.8110 - mae: 2.2965\n",
            "Epoch 49/100\n",
            "47/47 [==============================] - 1s 16ms/step - loss: 1.9824 - mae: 2.4784\n",
            "Epoch 50/100\n",
            "47/47 [==============================] - 1s 16ms/step - loss: 2.1277 - mae: 2.6123\n",
            "Epoch 51/100\n",
            "47/47 [==============================] - 1s 16ms/step - loss: 2.3380 - mae: 2.8347\n",
            "Epoch 52/100\n",
            "47/47 [==============================] - 1s 16ms/step - loss: 2.4566 - mae: 2.9473\n",
            "Epoch 53/100\n",
            "47/47 [==============================] - 1s 16ms/step - loss: 2.6401 - mae: 3.1308\n",
            "Epoch 54/100\n",
            "47/47 [==============================] - 1s 16ms/step - loss: 3.0476 - mae: 3.5126\n",
            "Epoch 55/100\n",
            "47/47 [==============================] - 1s 16ms/step - loss: 5.5548 - mae: 5.9959\n",
            "Epoch 56/100\n",
            "47/47 [==============================] - 1s 17ms/step - loss: 3.2302 - mae: 3.7394\n",
            "Epoch 57/100\n",
            "47/47 [==============================] - 1s 17ms/step - loss: 2.7974 - mae: 3.3083\n",
            "Epoch 58/100\n",
            "47/47 [==============================] - 1s 16ms/step - loss: 3.8751 - mae: 4.3412\n",
            "Epoch 59/100\n",
            "47/47 [==============================] - 1s 16ms/step - loss: 5.0206 - mae: 5.5229\n",
            "Epoch 60/100\n",
            "47/47 [==============================] - 1s 16ms/step - loss: 4.7861 - mae: 5.2413\n",
            "Epoch 61/100\n",
            "47/47 [==============================] - 1s 16ms/step - loss: 5.5276 - mae: 6.0844\n",
            "Epoch 62/100\n",
            "47/47 [==============================] - 1s 16ms/step - loss: 0.6129 - mae: 1.0485\n",
            "Epoch 63/100\n",
            "47/47 [==============================] - 1s 16ms/step - loss: 0.6217 - mae: 1.0347\n",
            "Epoch 64/100\n",
            "47/47 [==============================] - 1s 15ms/step - loss: 2.8544 - mae: 3.3326\n",
            "Epoch 65/100\n",
            "47/47 [==============================] - 1s 16ms/step - loss: 4.8786 - mae: 5.3268\n",
            "Epoch 66/100\n",
            "47/47 [==============================] - 1s 16ms/step - loss: 4.2957 - mae: 4.8109\n",
            "Epoch 67/100\n",
            "47/47 [==============================] - 1s 16ms/step - loss: 4.0768 - mae: 4.6068\n",
            "Epoch 68/100\n",
            "47/47 [==============================] - 1s 16ms/step - loss: 3.9869 - mae: 4.5140\n",
            "Epoch 69/100\n",
            "47/47 [==============================] - 1s 16ms/step - loss: 4.0826 - mae: 4.5404\n",
            "Epoch 70/100\n",
            "47/47 [==============================] - 1s 16ms/step - loss: 1.7971 - mae: 2.2712\n",
            "Epoch 71/100\n",
            "47/47 [==============================] - 1s 17ms/step - loss: 5.1102 - mae: 5.4318\n",
            "Epoch 72/100\n",
            "47/47 [==============================] - 1s 16ms/step - loss: 8.1446 - mae: 8.7286\n",
            "Epoch 73/100\n",
            "47/47 [==============================] - 1s 17ms/step - loss: 9.5027 - mae: 10.0799\n",
            "Epoch 74/100\n",
            "47/47 [==============================] - 1s 16ms/step - loss: 3.8265 - mae: 4.3354\n",
            "Epoch 75/100\n",
            "47/47 [==============================] - 1s 16ms/step - loss: 3.8265 - mae: 4.3390\n",
            "Epoch 76/100\n",
            "47/47 [==============================] - 1s 16ms/step - loss: 10.2428 - mae: 10.6273\n",
            "Epoch 77/100\n",
            "47/47 [==============================] - 1s 16ms/step - loss: 3.9095 - mae: 4.4263\n",
            "Epoch 78/100\n",
            "47/47 [==============================] - 1s 18ms/step - loss: 2.4801 - mae: 2.9773\n",
            "Epoch 79/100\n",
            "47/47 [==============================] - 1s 16ms/step - loss: 8.9365 - mae: 9.1979\n",
            "Epoch 80/100\n",
            "47/47 [==============================] - 1s 17ms/step - loss: 7.0015 - mae: 7.4924\n",
            "Epoch 81/100\n",
            "47/47 [==============================] - 1s 16ms/step - loss: 18.9446 - mae: 19.4590\n",
            "Epoch 82/100\n",
            "47/47 [==============================] - 1s 16ms/step - loss: 16.6042 - mae: 17.0441\n",
            "Epoch 83/100\n",
            "47/47 [==============================] - 1s 16ms/step - loss: 18.5625 - mae: 18.9498\n",
            "Epoch 84/100\n",
            "47/47 [==============================] - 1s 16ms/step - loss: 21.3614 - mae: 21.9046\n",
            "Epoch 85/100\n",
            "47/47 [==============================] - 1s 16ms/step - loss: 32.2264 - mae: 32.9098\n",
            "Epoch 86/100\n",
            "47/47 [==============================] - 1s 16ms/step - loss: 24.3414 - mae: 24.7043\n",
            "Epoch 87/100\n",
            "47/47 [==============================] - 1s 16ms/step - loss: 15.9204 - mae: 16.5025\n",
            "Epoch 88/100\n",
            "47/47 [==============================] - 1s 16ms/step - loss: 18.4268 - mae: 18.8398\n",
            "Epoch 89/100\n",
            "47/47 [==============================] - 1s 17ms/step - loss: 33.9618 - mae: 34.6169\n",
            "Epoch 90/100\n",
            "47/47 [==============================] - 1s 17ms/step - loss: 48.1013 - mae: 47.7579\n",
            "Epoch 91/100\n",
            "47/47 [==============================] - 1s 16ms/step - loss: 47.1682 - mae: 48.0261\n",
            "Epoch 92/100\n",
            "47/47 [==============================] - 1s 16ms/step - loss: 36.9798 - mae: 37.0597\n",
            "Epoch 93/100\n",
            "47/47 [==============================] - 1s 17ms/step - loss: 107.9982 - mae: 109.6033\n",
            "Epoch 94/100\n",
            "47/47 [==============================] - 1s 16ms/step - loss: 74.7563 - mae: 75.6014\n",
            "Epoch 95/100\n",
            "47/47 [==============================] - 1s 16ms/step - loss: 86.1086 - mae: 86.1735\n",
            "Epoch 96/100\n",
            "47/47 [==============================] - 1s 16ms/step - loss: 139.4748 - mae: 141.1620\n",
            "Epoch 97/100\n",
            "47/47 [==============================] - 1s 16ms/step - loss: 121.3444 - mae: 119.5346\n",
            "Epoch 98/100\n",
            "47/47 [==============================] - 1s 16ms/step - loss: 144.3246 - mae: 146.0177\n",
            "Epoch 99/100\n",
            "47/47 [==============================] - 1s 16ms/step - loss: 122.2899 - mae: 122.5016\n",
            "Epoch 100/100\n",
            "47/47 [==============================] - 1s 16ms/step - loss: 134.5680 - mae: 134.3817\n"
          ],
          "name": "stdout"
        }
      ]
    },
    {
      "cell_type": "code",
      "metadata": {
        "id": "vVcKmg7Q_7rD",
        "colab_type": "code",
        "outputId": "29af3cf8-cb9c-49b7-bef5-d052a35ae269",
        "colab": {
          "base_uri": "https://localhost:8080/",
          "height": 290
        }
      },
      "source": [
        "plt.semilogx(history.history[\"lr\"], history.history[\"loss\"])\n",
        "plt.axis([1e-8, 1e-4, 0, 60])"
      ],
      "execution_count": 0,
      "outputs": [
        {
          "output_type": "execute_result",
          "data": {
            "text/plain": [
              "[1e-08, 0.0001, 0, 60]"
            ]
          },
          "metadata": {
            "tags": []
          },
          "execution_count": 72
        },
        {
          "output_type": "display_data",
          "data": {
            "image/png": "[encoded data removed]",
            "text/plain": [
              "<Figure size 432x288 with 1 Axes>"
            ]
          },
          "metadata": {
            "tags": []
          }
        }
      ]
    },
    {
      "cell_type": "code",
      "metadata": {
        "id": "QsksvkcXAAgq",
        "colab_type": "code",
        "outputId": "4bba8893-1fb1-4e28-9899-640c5c633e1f",
        "colab": {
          "base_uri": "https://localhost:8080/",
          "height": 1000
        }
      },
      "source": [
        "tf.keras.backend.clear_session()\n",
        "tf.random.set_seed(51)\n",
        "np.random.seed(51)\n",
        "train_set = windowed_dataset(x_train, window_size=48, batch_size=28, shuffle_buffer=shuffle_buffer_size)\n",
        "model = tf.keras.models.Sequential([\n",
        "  tf.keras.layers.Conv1D(filters=24, kernel_size=5,\n",
        "                      strides=1, padding=\"causal\",\n",
        "                      activation=\"relu\",\n",
        "                      input_shape=[None, 1]),\n",
        "  tf.keras.layers.LSTM(60, return_sequences=True),\n",
        "  tf.keras.layers.LSTM(60, return_sequences=True),\n",
        "  tf.keras.layers.Dense(30, activation=\"relu\"),\n",
        "  tf.keras.layers.Dense(10, activation=\"relu\"),\n",
        "  tf.keras.layers.Dense(1),\n",
        "  tf.keras.layers.Lambda(lambda x: x * 400)\n",
        "])\n",
        "\n",
        "\n",
        "optimizer = tf.keras.optimizers.SGD(lr=1e-6, momentum=0.9)\n",
        "model.compile(loss=tf.keras.losses.Huber(),\n",
        "              optimizer=optimizer,\n",
        "              metrics=[\"mae\"])\n",
        "history = model.fit(train_set,epochs=150)\n",
        "                                    \n",
        "# EXPECTED OUTPUT SHOULD SEE AN MAE OF <2 WITHIN ABOUT 30 EPOCHS"
      ],
      "execution_count": 0,
      "outputs": [
        {
          "output_type": "stream",
          "text": [
            "Epoch 1/150\n",
            "47/47 [==============================] - 4s 80ms/step - loss: 7.9133 - mae: 8.4906\n",
            "Epoch 2/150\n",
            "47/47 [==============================] - 1s 16ms/step - loss: 0.5743 - mae: 0.8871\n",
            "Epoch 3/150\n",
            "47/47 [==============================] - 1s 16ms/step - loss: 0.4082 - mae: 0.6843\n",
            "Epoch 4/150\n",
            "47/47 [==============================] - 1s 16ms/step - loss: 0.3284 - mae: 0.6016\n",
            "Epoch 5/150\n",
            "47/47 [==============================] - 1s 16ms/step - loss: 0.2937 - mae: 0.5652\n",
            "Epoch 6/150\n",
            "47/47 [==============================] - 1s 16ms/step - loss: 0.2768 - mae: 0.5482\n",
            "Epoch 7/150\n",
            "47/47 [==============================] - 1s 16ms/step - loss: 0.2622 - mae: 0.5313\n",
            "Epoch 8/150\n",
            "47/47 [==============================] - 1s 16ms/step - loss: 0.2519 - mae: 0.5202\n",
            "Epoch 9/150\n",
            "47/47 [==============================] - 1s 16ms/step - loss: 0.2418 - mae: 0.5094\n",
            "Epoch 10/150\n",
            "47/47 [==============================] - 1s 16ms/step - loss: 0.2302 - mae: 0.4953\n",
            "Epoch 11/150\n",
            "47/47 [==============================] - 1s 16ms/step - loss: 0.2197 - mae: 0.4843\n",
            "Epoch 12/150\n",
            "47/47 [==============================] - 1s 17ms/step - loss: 0.2113 - mae: 0.4757\n",
            "Epoch 13/150\n",
            "47/47 [==============================] - 1s 16ms/step - loss: 0.2052 - mae: 0.4718\n",
            "Epoch 14/150\n",
            "47/47 [==============================] - 1s 15ms/step - loss: 0.1926 - mae: 0.4534\n",
            "Epoch 15/150\n",
            "47/47 [==============================] - 1s 16ms/step - loss: 0.1853 - mae: 0.4462\n",
            "Epoch 16/150\n",
            "47/47 [==============================] - 1s 16ms/step - loss: 0.1787 - mae: 0.4395\n",
            "Epoch 17/150\n",
            "47/47 [==============================] - 1s 16ms/step - loss: 0.1685 - mae: 0.4255\n",
            "Epoch 18/150\n",
            "47/47 [==============================] - 1s 16ms/step - loss: 0.1618 - mae: 0.4194\n",
            "Epoch 19/150\n",
            "47/47 [==============================] - 1s 16ms/step - loss: 0.1537 - mae: 0.4099\n",
            "Epoch 20/150\n",
            "47/47 [==============================] - 1s 17ms/step - loss: 0.1471 - mae: 0.4034\n",
            "Epoch 21/150\n",
            "47/47 [==============================] - 1s 16ms/step - loss: 0.1399 - mae: 0.3955\n",
            "Epoch 22/150\n",
            "47/47 [==============================] - 1s 16ms/step - loss: 0.1332 - mae: 0.3878\n",
            "Epoch 23/150\n",
            "47/47 [==============================] - 1s 16ms/step - loss: 0.1272 - mae: 0.3800\n",
            "Epoch 24/150\n",
            "47/47 [==============================] - 1s 17ms/step - loss: 0.1238 - mae: 0.3781\n",
            "Epoch 25/150\n",
            "47/47 [==============================] - 1s 17ms/step - loss: 0.1184 - mae: 0.3714\n",
            "Epoch 26/150\n",
            "47/47 [==============================] - 1s 16ms/step - loss: 0.1125 - mae: 0.3638\n",
            "Epoch 27/150\n",
            "47/47 [==============================] - 1s 16ms/step - loss: 0.1099 - mae: 0.3621\n",
            "Epoch 28/150\n",
            "47/47 [==============================] - 1s 16ms/step - loss: 0.1052 - mae: 0.3552\n",
            "Epoch 29/150\n",
            "47/47 [==============================] - 1s 16ms/step - loss: 0.1067 - mae: 0.3603\n",
            "Epoch 30/150\n",
            "47/47 [==============================] - 1s 16ms/step - loss: 0.1025 - mae: 0.3541\n",
            "Epoch 31/150\n",
            "47/47 [==============================] - 1s 16ms/step - loss: 0.0987 - mae: 0.3472\n",
            "Epoch 32/150\n",
            "47/47 [==============================] - 1s 16ms/step - loss: 0.0954 - mae: 0.3412\n",
            "Epoch 33/150\n",
            "47/47 [==============================] - 1s 16ms/step - loss: 0.0944 - mae: 0.3403\n",
            "Epoch 34/150\n",
            "47/47 [==============================] - 1s 16ms/step - loss: 0.0944 - mae: 0.3401\n",
            "Epoch 35/150\n",
            "47/47 [==============================] - 1s 16ms/step - loss: 0.0911 - mae: 0.3346\n",
            "Epoch 36/150\n",
            "47/47 [==============================] - 1s 17ms/step - loss: 0.0918 - mae: 0.3364\n",
            "Epoch 37/150\n",
            "47/47 [==============================] - 1s 16ms/step - loss: 0.0903 - mae: 0.3339\n",
            "Epoch 38/150\n",
            "47/47 [==============================] - 1s 16ms/step - loss: 0.0895 - mae: 0.3319\n",
            "Epoch 39/150\n",
            "47/47 [==============================] - 1s 17ms/step - loss: 0.0878 - mae: 0.3291\n",
            "Epoch 40/150\n",
            "47/47 [==============================] - 1s 16ms/step - loss: 0.0895 - mae: 0.3326\n",
            "Epoch 41/150\n",
            "47/47 [==============================] - 1s 16ms/step - loss: 0.0873 - mae: 0.3277\n",
            "Epoch 42/150\n",
            "47/47 [==============================] - 1s 16ms/step - loss: 0.0864 - mae: 0.3264\n",
            "Epoch 43/150\n",
            "47/47 [==============================] - 1s 16ms/step - loss: 0.0859 - mae: 0.3250\n",
            "Epoch 44/150\n",
            "47/47 [==============================] - 1s 16ms/step - loss: 0.0872 - mae: 0.3282\n",
            "Epoch 45/150\n",
            "47/47 [==============================] - 1s 16ms/step - loss: 0.0853 - mae: 0.3243\n",
            "Epoch 46/150\n",
            "47/47 [==============================] - 1s 16ms/step - loss: 0.0861 - mae: 0.3263\n",
            "Epoch 47/150\n",
            "47/47 [==============================] - 1s 16ms/step - loss: 0.0862 - mae: 0.3263\n",
            "Epoch 48/150\n",
            "47/47 [==============================] - 1s 16ms/step - loss: 0.0846 - mae: 0.3225\n",
            "Epoch 49/150\n",
            "47/47 [==============================] - 1s 16ms/step - loss: 0.0850 - mae: 0.3238\n",
            "Epoch 50/150\n",
            "47/47 [==============================] - 1s 17ms/step - loss: 0.0833 - mae: 0.3202\n",
            "Epoch 51/150\n",
            "47/47 [==============================] - 1s 17ms/step - loss: 0.0836 - mae: 0.3212\n",
            "Epoch 52/150\n",
            "47/47 [==============================] - 1s 17ms/step - loss: 0.0839 - mae: 0.3208\n",
            "Epoch 53/150\n",
            "47/47 [==============================] - 1s 17ms/step - loss: 0.0830 - mae: 0.3195\n",
            "Epoch 54/150\n",
            "47/47 [==============================] - 1s 17ms/step - loss: 0.0846 - mae: 0.3230\n",
            "Epoch 55/150\n",
            "47/47 [==============================] - 1s 17ms/step - loss: 0.0840 - mae: 0.3217\n",
            "Epoch 56/150\n",
            "47/47 [==============================] - 1s 18ms/step - loss: 0.0832 - mae: 0.3203\n",
            "Epoch 57/150\n",
            "47/47 [==============================] - 1s 17ms/step - loss: 0.0821 - mae: 0.3177\n",
            "Epoch 58/150\n",
            "47/47 [==============================] - 1s 17ms/step - loss: 0.0830 - mae: 0.3196\n",
            "Epoch 59/150\n",
            "47/47 [==============================] - 1s 16ms/step - loss: 0.0845 - mae: 0.3230\n",
            "Epoch 60/150\n",
            "47/47 [==============================] - 1s 17ms/step - loss: 0.0845 - mae: 0.3233\n",
            "Epoch 61/150\n",
            "47/47 [==============================] - 1s 17ms/step - loss: 0.0821 - mae: 0.3185\n",
            "Epoch 62/150\n",
            "47/47 [==============================] - 1s 17ms/step - loss: 0.0830 - mae: 0.3197\n",
            "Epoch 63/150\n",
            "47/47 [==============================] - 1s 16ms/step - loss: 0.0834 - mae: 0.3210\n",
            "Epoch 64/150\n",
            "47/47 [==============================] - 1s 16ms/step - loss: 0.0810 - mae: 0.3160\n",
            "Epoch 65/150\n",
            "47/47 [==============================] - 1s 16ms/step - loss: 0.0811 - mae: 0.3158\n",
            "Epoch 66/150\n",
            "47/47 [==============================] - 1s 17ms/step - loss: 0.0820 - mae: 0.3185\n",
            "Epoch 67/150\n",
            "47/47 [==============================] - 1s 16ms/step - loss: 0.0815 - mae: 0.3168\n",
            "Epoch 68/150\n",
            "47/47 [==============================] - 1s 16ms/step - loss: 0.0817 - mae: 0.3177\n",
            "Epoch 69/150\n",
            "47/47 [==============================] - 1s 16ms/step - loss: 0.0812 - mae: 0.3171\n",
            "Epoch 70/150\n",
            "47/47 [==============================] - 1s 18ms/step - loss: 0.0832 - mae: 0.3213\n",
            "Epoch 71/150\n",
            "47/47 [==============================] - 1s 16ms/step - loss: 0.0812 - mae: 0.3162\n",
            "Epoch 72/150\n",
            "47/47 [==============================] - 1s 17ms/step - loss: 0.0808 - mae: 0.3154\n",
            "Epoch 73/150\n",
            "47/47 [==============================] - 1s 16ms/step - loss: 0.0807 - mae: 0.3154\n",
            "Epoch 74/150\n",
            "47/47 [==============================] - 1s 16ms/step - loss: 0.0798 - mae: 0.3135\n",
            "Epoch 75/150\n",
            "47/47 [==============================] - 1s 16ms/step - loss: 0.0801 - mae: 0.3140\n",
            "Epoch 76/150\n",
            "47/47 [==============================] - 1s 17ms/step - loss: 0.0795 - mae: 0.3125\n",
            "Epoch 77/150\n",
            "47/47 [==============================] - 1s 16ms/step - loss: 0.0808 - mae: 0.3157\n",
            "Epoch 78/150\n",
            "47/47 [==============================] - 1s 17ms/step - loss: 0.0811 - mae: 0.3166\n",
            "Epoch 79/150\n",
            "47/47 [==============================] - 1s 15ms/step - loss: 0.0810 - mae: 0.3163\n",
            "Epoch 80/150\n",
            "47/47 [==============================] - 1s 16ms/step - loss: 0.0795 - mae: 0.3129\n",
            "Epoch 81/150\n",
            "47/47 [==============================] - 1s 17ms/step - loss: 0.0831 - mae: 0.3208\n",
            "Epoch 82/150\n",
            "47/47 [==============================] - 1s 16ms/step - loss: 0.0792 - mae: 0.3121\n",
            "Epoch 83/150\n",
            "47/47 [==============================] - 1s 16ms/step - loss: 0.0790 - mae: 0.3111\n",
            "Epoch 84/150\n",
            "47/47 [==============================] - 1s 16ms/step - loss: 0.0788 - mae: 0.3112\n",
            "Epoch 85/150\n",
            "47/47 [==============================] - 1s 17ms/step - loss: 0.0787 - mae: 0.3110\n",
            "Epoch 86/150\n",
            "47/47 [==============================] - 1s 17ms/step - loss: 0.0788 - mae: 0.3115\n",
            "Epoch 87/150\n",
            "47/47 [==============================] - 1s 16ms/step - loss: 0.0788 - mae: 0.3116\n",
            "Epoch 88/150\n",
            "47/47 [==============================] - 1s 17ms/step - loss: 0.0784 - mae: 0.3104\n",
            "Epoch 89/150\n",
            "47/47 [==============================] - 1s 17ms/step - loss: 0.0796 - mae: 0.3131\n",
            "Epoch 90/150\n",
            "47/47 [==============================] - 1s 16ms/step - loss: 0.0780 - mae: 0.3100\n",
            "Epoch 91/150\n",
            "47/47 [==============================] - 1s 16ms/step - loss: 0.0786 - mae: 0.3112\n",
            "Epoch 92/150\n",
            "47/47 [==============================] - 1s 16ms/step - loss: 0.0789 - mae: 0.3118\n",
            "Epoch 93/150\n",
            "47/47 [==============================] - 1s 17ms/step - loss: 0.0779 - mae: 0.3097\n",
            "Epoch 94/150\n",
            "47/47 [==============================] - 1s 17ms/step - loss: 0.0777 - mae: 0.3092\n",
            "Epoch 95/150\n",
            "47/47 [==============================] - 1s 16ms/step - loss: 0.0774 - mae: 0.3087\n",
            "Epoch 96/150\n",
            "47/47 [==============================] - 1s 17ms/step - loss: 0.0774 - mae: 0.3088\n",
            "Epoch 97/150\n",
            "47/47 [==============================] - 1s 17ms/step - loss: 0.0772 - mae: 0.3080\n",
            "Epoch 98/150\n",
            "47/47 [==============================] - 1s 16ms/step - loss: 0.0779 - mae: 0.3097\n",
            "Epoch 99/150\n",
            "47/47 [==============================] - 1s 16ms/step - loss: 0.0780 - mae: 0.3104\n",
            "Epoch 100/150\n",
            "47/47 [==============================] - 1s 16ms/step - loss: 0.0776 - mae: 0.3092\n",
            "Epoch 101/150\n",
            "47/47 [==============================] - 1s 16ms/step - loss: 0.0773 - mae: 0.3087\n",
            "Epoch 102/150\n",
            "47/47 [==============================] - 1s 16ms/step - loss: 0.0783 - mae: 0.3109\n",
            "Epoch 103/150\n",
            "47/47 [==============================] - 1s 16ms/step - loss: 0.0775 - mae: 0.3094\n",
            "Epoch 104/150\n",
            "47/47 [==============================] - 1s 17ms/step - loss: 0.0772 - mae: 0.3083\n",
            "Epoch 105/150\n",
            "47/47 [==============================] - 1s 16ms/step - loss: 0.0769 - mae: 0.3076\n",
            "Epoch 106/150\n",
            "47/47 [==============================] - 1s 16ms/step - loss: 0.0761 - mae: 0.3060\n",
            "Epoch 107/150\n",
            "47/47 [==============================] - 1s 16ms/step - loss: 0.0764 - mae: 0.3073\n",
            "Epoch 108/150\n",
            "47/47 [==============================] - 1s 17ms/step - loss: 0.0764 - mae: 0.3068\n",
            "Epoch 109/150\n",
            "47/47 [==============================] - 1s 16ms/step - loss: 0.0777 - mae: 0.3097\n",
            "Epoch 110/150\n",
            "47/47 [==============================] - 1s 16ms/step - loss: 0.0762 - mae: 0.3061\n",
            "Epoch 111/150\n",
            "47/47 [==============================] - 1s 16ms/step - loss: 0.0767 - mae: 0.3077\n",
            "Epoch 112/150\n",
            "47/47 [==============================] - 1s 17ms/step - loss: 0.0756 - mae: 0.3049\n",
            "Epoch 113/150\n",
            "47/47 [==============================] - 1s 16ms/step - loss: 0.0769 - mae: 0.3087\n",
            "Epoch 114/150\n",
            "47/47 [==============================] - 1s 17ms/step - loss: 0.0782 - mae: 0.3111\n",
            "Epoch 115/150\n",
            "47/47 [==============================] - 1s 16ms/step - loss: 0.0764 - mae: 0.3073\n",
            "Epoch 116/150\n",
            "47/47 [==============================] - 1s 16ms/step - loss: 0.0773 - mae: 0.3091\n",
            "Epoch 117/150\n",
            "47/47 [==============================] - 1s 17ms/step - loss: 0.0756 - mae: 0.3052\n",
            "Epoch 118/150\n",
            "47/47 [==============================] - 1s 16ms/step - loss: 0.0752 - mae: 0.3041\n",
            "Epoch 119/150\n",
            "47/47 [==============================] - 1s 16ms/step - loss: 0.0756 - mae: 0.3052\n",
            "Epoch 120/150\n",
            "47/47 [==============================] - 1s 17ms/step - loss: 0.0752 - mae: 0.3043\n",
            "Epoch 121/150\n",
            "47/47 [==============================] - 1s 16ms/step - loss: 0.0754 - mae: 0.3045\n",
            "Epoch 122/150\n",
            "47/47 [==============================] - 1s 17ms/step - loss: 0.0760 - mae: 0.3061\n",
            "Epoch 123/150\n",
            "47/47 [==============================] - 1s 16ms/step - loss: 0.0751 - mae: 0.3042\n",
            "Epoch 124/150\n",
            "47/47 [==============================] - 1s 17ms/step - loss: 0.0747 - mae: 0.3031\n",
            "Epoch 125/150\n",
            "47/47 [==============================] - 1s 17ms/step - loss: 0.0746 - mae: 0.3028\n",
            "Epoch 126/150\n",
            "47/47 [==============================] - 1s 16ms/step - loss: 0.0748 - mae: 0.3037\n",
            "Epoch 127/150\n",
            "47/47 [==============================] - 1s 17ms/step - loss: 0.0758 - mae: 0.3062\n",
            "Epoch 128/150\n",
            "47/47 [==============================] - 1s 16ms/step - loss: 0.0751 - mae: 0.3041\n",
            "Epoch 129/150\n",
            "47/47 [==============================] - 1s 16ms/step - loss: 0.0751 - mae: 0.3045\n",
            "Epoch 130/150\n",
            "47/47 [==============================] - 1s 16ms/step - loss: 0.0743 - mae: 0.3024\n",
            "Epoch 131/150\n",
            "47/47 [==============================] - 1s 16ms/step - loss: 0.0741 - mae: 0.3015\n",
            "Epoch 132/150\n",
            "47/47 [==============================] - 1s 17ms/step - loss: 0.0744 - mae: 0.3024\n",
            "Epoch 133/150\n",
            "47/47 [==============================] - 1s 17ms/step - loss: 0.0746 - mae: 0.3035\n",
            "Epoch 134/150\n",
            "47/47 [==============================] - 1s 16ms/step - loss: 0.0738 - mae: 0.3019\n",
            "Epoch 135/150\n",
            "47/47 [==============================] - 1s 17ms/step - loss: 0.0743 - mae: 0.3023\n",
            "Epoch 136/150\n",
            "47/47 [==============================] - 1s 16ms/step - loss: 0.0736 - mae: 0.3011\n",
            "Epoch 137/150\n",
            "47/47 [==============================] - 1s 16ms/step - loss: 0.0742 - mae: 0.3031\n",
            "Epoch 138/150\n",
            "47/47 [==============================] - 1s 17ms/step - loss: 0.0748 - mae: 0.3046\n",
            "Epoch 139/150\n",
            "47/47 [==============================] - 1s 16ms/step - loss: 0.0737 - mae: 0.3013\n",
            "Epoch 140/150\n",
            "47/47 [==============================] - 1s 16ms/step - loss: 0.0745 - mae: 0.3030\n",
            "Epoch 141/150\n",
            "47/47 [==============================] - 1s 16ms/step - loss: 0.0730 - mae: 0.3001\n",
            "Epoch 142/150\n",
            "47/47 [==============================] - 1s 16ms/step - loss: 0.0741 - mae: 0.3022\n",
            "Epoch 143/150\n",
            "47/47 [==============================] - 1s 16ms/step - loss: 0.0739 - mae: 0.3018\n",
            "Epoch 144/150\n",
            "47/47 [==============================] - 1s 16ms/step - loss: 0.0734 - mae: 0.3009\n",
            "Epoch 145/150\n",
            "47/47 [==============================] - 1s 17ms/step - loss: 0.0734 - mae: 0.3013\n",
            "Epoch 146/150\n",
            "47/47 [==============================] - 1s 15ms/step - loss: 0.0745 - mae: 0.3033\n",
            "Epoch 147/150\n",
            "47/47 [==============================] - 1s 17ms/step - loss: 0.0729 - mae: 0.2999\n",
            "Epoch 148/150\n",
            "47/47 [==============================] - 1s 17ms/step - loss: 0.0734 - mae: 0.3014\n",
            "Epoch 149/150\n",
            "47/47 [==============================] - 1s 17ms/step - loss: 0.0730 - mae: 0.2999\n",
            "Epoch 150/150\n",
            "47/47 [==============================] - 1s 17ms/step - loss: 0.0732 - mae: 0.3010\n"
          ],
          "name": "stdout"
        }
      ]
    },
    {
      "cell_type": "code",
      "metadata": {
        "id": "GaC6NNMRp0lb",
        "colab_type": "code",
        "outputId": "cae82430-8884-47ed-e017-04efcf9b7826",
        "colab": {
          "base_uri": "https://localhost:8080/",
          "height": 51
        }
      },
      "source": [
        "print(series)\n",
        "print(window_size)\n",
        "rnn_forecast = model_forecast(model, series[..., np.newaxis], window_size)\n",
        "rnn_forecast = rnn_forecast[split_time - window_size:-1, -1, 0]"
      ],
      "execution_count": 0,
      "outputs": [
        {
          "output_type": "stream",
          "text": [
            "[24.9034 24.6155 25.3411 ... 26.1699 25.8739 25.9052]\n",
            "48\n"
          ],
          "name": "stdout"
        }
      ]
    },
    {
      "cell_type": "code",
      "metadata": {
        "colab_type": "code",
        "id": "izy6wl2S9d-2",
        "outputId": "50841fdb-270d-4b20-b478-7317663d22d2",
        "colab": {
          "base_uri": "https://localhost:8080/",
          "height": 457
        }
      },
      "source": [
        "plt.figure(figsize=(10, 6))\n",
        "print(time_valid)\n",
        "plot_series(time_valid, x_valid)\n",
        "plot_series(time_valid, rnn_forecast)\n",
        "\n",
        "# EXPECTED OUTPUT. PLOT SHOULD SHOW PROJECTIONS FOLLOWING ORIGINAL DATA CLOSELY"
      ],
      "execution_count": 0,
      "outputs": [
        {
          "output_type": "stream",
          "text": [
            "[1344 1345 1346 1347 1348 1349 1350 1351 1352 1353 1354 1355 1356 1357\n",
            " 1358 1359 1360 1361 1362 1363 1364 1365 1366 1367 1368 1369 1370 1371\n",
            " 1372 1373 1374 1375 1376 1377 1378 1379 1380 1381 1382 1383 1384 1385\n",
            " 1386 1387 1388 1389 1390 1391]\n"
          ],
          "name": "stdout"
        },
        {
          "output_type": "display_data",
          "data": {
            "image/png": "[encoded data removed]",
            "text/plain": [
              "<Figure size 720x432 with 1 Axes>"
            ]
          },
          "metadata": {
            "tags": []
          }
        }
      ]
    },
    {
      "cell_type": "code",
      "metadata": {
        "id": "13XrorC5wQoE",
        "colab_type": "code",
        "outputId": "04dacad7-3edc-4907-d8c0-0f13d39d0519",
        "colab": {
          "base_uri": "https://localhost:8080/",
          "height": 34
        }
      },
      "source": [
        "tf.keras.metrics.mean_absolute_error(x_valid, rnn_forecast).numpy()\n",
        "\n",
        "# EXPECTED OUTPUT MAE < 2 -- I GOT 1.789626"
      ],
      "execution_count": 0,
      "outputs": [
        {
          "output_type": "execute_result",
          "data": {
            "text/plain": [
              "0.3443177"
            ]
          },
          "metadata": {
            "tags": []
          },
          "execution_count": 76
        }
      ]
    },
    {
      "cell_type": "code",
      "metadata": {
        "id": "AOVzQXxCwkzP",
        "colab_type": "code",
        "outputId": "0b504db5-279a-4a5c-dcb8-dec47c779878",
        "colab": {
          "base_uri": "https://localhost:8080/",
          "height": 86
        }
      },
      "source": [
        "print(rnn_forecast)\n",
        "# EXPECTED OUTPUT -- ARRAY OF VALUES IN THE LOW TEENS"
      ],
      "execution_count": 0,
      "outputs": [
        {
          "output_type": "stream",
          "text": [
            "[25.92479  25.637568 25.743475 25.88271  26.093779 26.379923 26.341343\n",
            " 26.244122 26.023384 25.949215 25.925964 25.887602 26.014072 26.110613\n",
            " 26.13482  26.414722 26.50298  26.51805  26.394283 26.210365 26.187387\n",
            " 26.007996 26.141666 26.014446]\n"
          ],
          "name": "stdout"
        }
      ]
    }
  ]
}